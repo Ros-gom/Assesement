{
 "cells": [
  {
   "cell_type": "code",
   "execution_count": null,
   "id": "2f4b8798-d5a9-4599-8b6d-60db9a4c74c6",
   "metadata": {},
   "outputs": [],
   "source": []
  },
  {
   "cell_type": "markdown",
   "id": "626983b0-90ec-4dcf-ac70-ecc122443521",
   "metadata": {},
   "source": [
    "# Data Science Tools and Ecosystem"
   ]
  },
  {
   "cell_type": "markdown",
   "id": "6817b9d7-de85-4814-9002-7ea210588709",
   "metadata": {},
   "source": [
    "In this notebook, Data Science Tools and Ecosystem are summarized."
   ]
  },
  {
   "cell_type": "markdown",
   "id": "5d4b9b73-3523-4072-be39-ea19022e6429",
   "metadata": {
    "tags": []
   },
   "source": [
    "Some of the popular languages that Data Scientists use are:"
   ]
  },
  {
   "cell_type": "markdown",
   "id": "309f6445-c723-4303-a550-836075786475",
   "metadata": {},
   "source": [
    "**Objectives:**\n",
    "* Python\n",
    "* R\n",
    "* SQL\n",
    "* Java"
   ]
  },
  {
   "cell_type": "markdown",
   "id": "8e4daee8-ec5e-4c61-8425-bdd03dd5eb06",
   "metadata": {
    "tags": []
   },
   "source": [
    "1. Python\n",
    "1. SQL\n",
    "1. language"
   ]
  },
  {
   "cell_type": "markdown",
   "id": "e072350a-00f2-49b3-b92a-acc28e070b09",
   "metadata": {},
   "source": [
    "Some of the commonly used libraries used by Data Scientists include:"
   ]
  },
  {
   "cell_type": "markdown",
   "id": "471ef07f-c900-4c31-8f4d-ccc2c899e99f",
   "metadata": {},
   "source": [
    "1. Numpy\n",
    "1. SciPy\n",
    "1. Pandas"
   ]
  },
  {
   "cell_type": "markdown",
   "id": "ebe86cdf-7b93-4bd1-b354-b8debc419333",
   "metadata": {},
   "source": [
    "|Data Science Tools|\n",
    "--------------------\n",
    "|RStudio|\n",
    "|Apache Spark|\n",
    "|TensorFlow|"
   ]
  },
  {
   "cell_type": "markdown",
   "id": "dd379f81-aae0-460f-9631-5b16be9c2d17",
   "metadata": {
    "tags": []
   },
   "source": [
    "### Below are a few examples of evaluating arithmetic expressions in Python"
   ]
  },
  {
   "cell_type": "code",
   "execution_count": 6,
   "id": "21a8f9c5-1b28-431e-9d75-a92d3f13fe97",
   "metadata": {
    "tags": []
   },
   "outputs": [
    {
     "data": {
      "text/plain": [
       "17"
      ]
     },
     "execution_count": 6,
     "metadata": {},
     "output_type": "execute_result"
    }
   ],
   "source": [
    "(3*4)+5 #This a simple arithmetic expression to mutiply then add integers"
   ]
  },
  {
   "cell_type": "code",
   "execution_count": 20,
   "id": "cc5e2bbc-88fe-443a-8bb9-a0dbebafc9cc",
   "metadata": {
    "tags": []
   },
   "outputs": [
    {
     "name": "stdout",
     "output_type": "stream",
     "text": [
      "3.3333333333333335\n"
     ]
    }
   ],
   "source": [
    " #This will convert 200 minutes to hours by diving by 60\n",
    "Minutes = 200\n",
    "Hours = Minutes / 60\n",
    "print (Hours)"
   ]
  },
  {
   "cell_type": "markdown",
   "id": "e7d6a533-a0c3-446d-9f07-7b132f1e62c2",
   "metadata": {},
   "source": [
    "## Author\n",
    "Roston Gomes"
   ]
  },
  {
   "cell_type": "code",
   "execution_count": null,
   "id": "025b66fc-572c-48f0-9477-87e5bf37c97b",
   "metadata": {},
   "outputs": [],
   "source": []
  }
 ],
 "metadata": {
  "kernelspec": {
   "display_name": "Python",
   "language": "python",
   "name": "conda-env-python-py"
  },
  "language_info": {
   "codemirror_mode": {
    "name": "ipython",
    "version": 3
   },
   "file_extension": ".py",
   "mimetype": "text/x-python",
   "name": "python",
   "nbconvert_exporter": "python",
   "pygments_lexer": "ipython3",
   "version": "3.7.12"
  }
 },
 "nbformat": 4,
 "nbformat_minor": 5
}
